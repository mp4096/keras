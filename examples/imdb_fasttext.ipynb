{
 "cells": [
  {
   "cell_type": "markdown",
   "metadata": {},
   "source": [
    "# `imdb_fasttext`\n",
    "This example demonstrates the use of fastText for text classification\n",
    "\n",
    "Based on Joulin et.al.'s paper:\n",
    "_Bags of Tricks for Efficient Text Classification_\n",
    "(https://arxiv.org/abs/1607.01759)\n",
    "\n",
    "Can achieve accuracy around 88% after 5 epochs in ca. 70s on CPU."
   ]
  },
  {
   "cell_type": "markdown",
   "metadata": {},
   "source": [
    "### Import packages"
   ]
  },
  {
   "cell_type": "code",
   "execution_count": 1,
   "metadata": {
    "collapsed": false
   },
   "outputs": [
    {
     "name": "stderr",
     "output_type": "stream",
     "text": [
      "Using Theano backend.\n"
     ]
    }
   ],
   "source": [
    "from __future__ import print_function\n",
    "import numpy as np\n",
    "\n",
    "from keras.preprocessing import sequence\n",
    "from keras.models import Sequential\n",
    "from keras.layers import Dense, Flatten\n",
    "from keras.layers import Embedding\n",
    "from keras.layers import AveragePooling1D\n",
    "from keras.datasets import imdb"
   ]
  },
  {
   "cell_type": "markdown",
   "metadata": {},
   "source": [
    "### Set parameters\n",
    "First, we specify a seed for the random number generator to obtain reproducible results."
   ]
  },
  {
   "cell_type": "code",
   "execution_count": 2,
   "metadata": {
    "collapsed": true
   },
   "outputs": [],
   "source": [
    "np.random.seed(1337)"
   ]
  },
  {
   "cell_type": "markdown",
   "metadata": {},
   "source": [
    "Now we specify the model and training parameters."
   ]
  },
  {
   "cell_type": "code",
   "execution_count": 3,
   "metadata": {
    "collapsed": true
   },
   "outputs": [],
   "source": [
    "max_features = 20000\n",
    "maxlen = 400\n",
    "batch_size = 32\n",
    "embedding_dims = 20\n",
    "nb_epoch = 5"
   ]
  },
  {
   "cell_type": "markdown",
   "metadata": {},
   "source": [
    "### Import and prepare data\n",
    "We use the IMDb dataset in this example. It will be downloaded from the Internet during the first run. Subsequently, a cached version will be used."
   ]
  },
  {
   "cell_type": "code",
   "execution_count": 4,
   "metadata": {
    "collapsed": false
   },
   "outputs": [],
   "source": [
    "(X_train, y_train), (X_test, y_test) = imdb.load_data(nb_words=max_features)"
   ]
  },
  {
   "cell_type": "markdown",
   "metadata": {},
   "source": [
    "Let's see what we have..."
   ]
  },
  {
   "cell_type": "code",
   "execution_count": 5,
   "metadata": {
    "collapsed": false
   },
   "outputs": [
    {
     "name": "stdout",
     "output_type": "stream",
     "text": [
      "25000 train sequences\n",
      "25000 test sequences\n"
     ]
    }
   ],
   "source": [
    "print(len(X_train), 'train sequences')\n",
    "print(len(X_test), 'test sequences')"
   ]
  },
  {
   "cell_type": "markdown",
   "metadata": {},
   "source": [
    "Now we have to pad the data to the right shape"
   ]
  },
  {
   "cell_type": "code",
   "execution_count": 6,
   "metadata": {
    "collapsed": false
   },
   "outputs": [
    {
     "name": "stdout",
     "output_type": "stream",
     "text": [
      "X_train shape before padding: (25000,)\n",
      "X_test shape before padding: (25000,)\n",
      "Padding sequences (samples x time)...\n",
      "X_train shape after padding: (25000, 400)\n",
      "X_test shape after padding: (25000, 400)\n"
     ]
    }
   ],
   "source": [
    "print('X_train shape before padding:', X_train.shape)\n",
    "print('X_test shape before padding:', X_test.shape)\n",
    "\n",
    "print('Padding sequences (samples x time)...')\n",
    "X_train = sequence.pad_sequences(X_train, maxlen=maxlen)\n",
    "X_test = sequence.pad_sequences(X_test, maxlen=maxlen)\n",
    "\n",
    "print('X_train shape after padding:', X_train.shape)\n",
    "print('X_test shape after padding:', X_test.shape)"
   ]
  },
  {
   "cell_type": "markdown",
   "metadata": {},
   "source": [
    "### Model specification\n",
    "We start off with creating a `Sequential` model for our network:"
   ]
  },
  {
   "cell_type": "code",
   "execution_count": 7,
   "metadata": {
    "collapsed": true
   },
   "outputs": [],
   "source": [
    "model = Sequential()"
   ]
  },
  {
   "cell_type": "markdown",
   "metadata": {},
   "source": [
    "The first layer is an `Embedding` layer which maps our vocabulary indices into `embedding_dims` dimensions."
   ]
  },
  {
   "cell_type": "code",
   "execution_count": 8,
   "metadata": {
    "collapsed": true
   },
   "outputs": [],
   "source": [
    "model.add(Embedding(max_features, embedding_dims, input_length=maxlen))"
   ]
  },
  {
   "cell_type": "markdown",
   "metadata": {},
   "source": [
    "The second layer is an `AveragePooling1D` layer, which will average the embeddings of all words in the document.  \n",
    "Its output is flattened using a `Flatten` layer."
   ]
  },
  {
   "cell_type": "code",
   "execution_count": 9,
   "metadata": {
    "collapsed": true
   },
   "outputs": [],
   "source": [
    "model.add(AveragePooling1D(pool_length=model.output_shape[1]))\n",
    "model.add(Flatten())"
   ]
  },
  {
   "cell_type": "markdown",
   "metadata": {},
   "source": [
    "The flattened output of the second layer is projected onto a single unit output layer with a sigmoid activation function."
   ]
  },
  {
   "cell_type": "code",
   "execution_count": 10,
   "metadata": {
    "collapsed": false
   },
   "outputs": [],
   "source": [
    "model.add(Dense(1, activation='sigmoid'))"
   ]
  },
  {
   "cell_type": "markdown",
   "metadata": {},
   "source": [
    "Now we compile the model. We use binary cross-entropy as a loss function and Adam as an optimizer."
   ]
  },
  {
   "cell_type": "code",
   "execution_count": 11,
   "metadata": {
    "collapsed": false
   },
   "outputs": [],
   "source": [
    "model.compile(loss='binary_crossentropy', optimizer='adam', metrics=['accuracy'])"
   ]
  },
  {
   "cell_type": "markdown",
   "metadata": {},
   "source": [
    "### Model fitting\n",
    "Now we fit the model!"
   ]
  },
  {
   "cell_type": "code",
   "execution_count": 12,
   "metadata": {
    "collapsed": false
   },
   "outputs": [
    {
     "name": "stdout",
     "output_type": "stream",
     "text": [
      "Train on 25000 samples, validate on 25000 samples\n",
      "Epoch 1/5\n",
      "25000/25000 [==============================] - 22s - loss: 0.6454 - acc: 0.7194 - val_loss: 0.5736 - val_acc: 0.7984\n",
      "Epoch 2/5\n",
      "25000/25000 [==============================] - 22s - loss: 0.4875 - acc: 0.8381 - val_loss: 0.4435 - val_acc: 0.8461\n",
      "Epoch 3/5\n",
      "25000/25000 [==============================] - 25s - loss: 0.3767 - acc: 0.8766 - val_loss: 0.3725 - val_acc: 0.8663\n",
      "Epoch 4/5\n",
      "25000/25000 [==============================] - 23s - loss: 0.3139 - acc: 0.8930 - val_loss: 0.3338 - val_acc: 0.8762\n",
      "Epoch 5/5\n",
      "25000/25000 [==============================] - 21s - loss: 0.2731 - acc: 0.9060 - val_loss: 0.3120 - val_acc: 0.8813\n"
     ]
    }
   ],
   "source": [
    "model.fit(X_train, y_train, batch_size=batch_size, nb_epoch=nb_epoch, validation_data=(X_test, y_test));"
   ]
  },
  {
   "cell_type": "markdown",
   "metadata": {},
   "source": [
    "### Prediction\n",
    "We can easily use the trained model for prediction:"
   ]
  },
  {
   "cell_type": "code",
   "execution_count": 13,
   "metadata": {
    "collapsed": false
   },
   "outputs": [
    {
     "name": "stdout",
     "output_type": "stream",
     "text": [
      "Prediction: 0.78, ground truth: 1\n",
      "Prediction: 0.89, ground truth: 1\n",
      "Prediction: 1.00, ground truth: 1\n",
      "Prediction: 0.61, ground truth: 1\n",
      "Prediction: 0.89, ground truth: 1\n",
      "Prediction: 0.24, ground truth: 0\n",
      "Prediction: 0.02, ground truth: 0\n",
      "Prediction: 0.17, ground truth: 0\n",
      "Prediction: 0.84, ground truth: 1\n",
      "Prediction: 0.87, ground truth: 1\n"
     ]
    }
   ],
   "source": [
    "y_predicted = model.predict(X_test)\n",
    "\n",
    "# Preview the first 10 predictions\n",
    "for i in range(10):\n",
    "    print(\"Prediction: {:.2f}, ground truth: {:d}\".format(y_predicted[i, 0], y_test[i]))"
   ]
  }
 ],
 "metadata": {
  "kernelspec": {
   "display_name": "Python 3",
   "language": "python",
   "name": "python3"
  },
  "language_info": {
   "codemirror_mode": {
    "name": "ipython",
    "version": 3
   },
   "file_extension": ".py",
   "mimetype": "text/x-python",
   "name": "python",
   "nbconvert_exporter": "python",
   "pygments_lexer": "ipython3",
   "version": "3.5.2"
  }
 },
 "nbformat": 4,
 "nbformat_minor": 1
}
